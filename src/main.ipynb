{
 "cells": [
  {
   "cell_type": "code",
   "execution_count": 1,
   "metadata": {},
   "outputs": [
    {
     "name": "stderr",
     "output_type": "stream",
     "text": [
      "[2023-01-01 21:05:14,082][mldesigner][WARNING] - Mldesigner requires azure-ai-ml >= 1.2.0 package to be fully functional.It's highly recommended to install the latest azure-ai-ml package.\n"
     ]
    }
   ],
   "source": [
    "from azure_ml import submit_job"
   ]
  },
  {
   "cell_type": "code",
   "execution_count": 2,
   "metadata": {},
   "outputs": [
    {
     "name": "stderr",
     "output_type": "stream",
     "text": [
      "\u001b[32mUploading src (0.51 MBs): 100%|██████████| 508146/508146 [00:00<00:00, 4807435.41it/s]\n",
      "\u001b[39m\n",
      "\n"
     ]
    },
    {
     "name": "stdout",
     "output_type": "stream",
     "text": [
      "Submitted job: funny_kettle_r2sdk9qvlc\n"
     ]
    }
   ],
   "source": [
    "job_name = submit_job()\n",
    "\n"
   ]
  },
  {
   "cell_type": "code",
   "execution_count": 5,
   "metadata": {},
   "outputs": [],
   "source": [
    "from azure_ml import get_output"
   ]
  },
  {
   "cell_type": "code",
   "execution_count": 6,
   "metadata": {},
   "outputs": [
    {
     "name": "stderr",
     "output_type": "stream",
     "text": [
      "Downloading artifact azureml://datastores/workspaceartifactstore/paths/ExperimentRun/dcid.funny_kettle_r2sdk9qvlc/ to azure_ml_downloads/artifacts\n"
     ]
    },
    {
     "ename": "FileNotFoundError",
     "evalue": "[Errno 2] No such file or directory: 'azure_ml_downloads/named-outputs/output_folder/output.p'",
     "output_type": "error",
     "traceback": [
      "\u001b[0;31m---------------------------------------------------------------------------\u001b[0m",
      "\u001b[0;31mFileNotFoundError\u001b[0m                         Traceback (most recent call last)",
      "Cell \u001b[0;32mIn[6], line 1\u001b[0m\n\u001b[0;32m----> 1\u001b[0m network \u001b[39m=\u001b[39m get_output(job_name)\n",
      "File \u001b[0;32m~/Repositories/BN_experiments/src/azure_ml.py:43\u001b[0m, in \u001b[0;36mget_output\u001b[0;34m(job_name)\u001b[0m\n\u001b[1;32m     39\u001b[0m file_path \u001b[39m=\u001b[39m os\u001b[39m.\u001b[39mpath\u001b[39m.\u001b[39mjoin(download_path, \u001b[39m\"\u001b[39m\u001b[39mnamed-outputs/output_folder/output.p\u001b[39m\u001b[39m\"\u001b[39m)\n\u001b[1;32m     41\u001b[0m ml_client\u001b[39m.\u001b[39mjobs\u001b[39m.\u001b[39mdownload(name\u001b[39m=\u001b[39mjob_name, download_path\u001b[39m=\u001b[39mdownload_path, \u001b[39mall\u001b[39m\u001b[39m=\u001b[39m\u001b[39mTrue\u001b[39;00m)\n\u001b[0;32m---> 43\u001b[0m \u001b[39mwith\u001b[39;00m \u001b[39mopen\u001b[39;49m(file_path, \u001b[39m\"\u001b[39;49m\u001b[39mrb\u001b[39;49m\u001b[39m\"\u001b[39;49m) \u001b[39mas\u001b[39;00m file:\n\u001b[1;32m     44\u001b[0m     output \u001b[39m=\u001b[39m CPU_Unpickler(file)\u001b[39m.\u001b[39mload()\n\u001b[1;32m     46\u001b[0m \u001b[39mreturn\u001b[39;00m output\n",
      "\u001b[0;31mFileNotFoundError\u001b[0m: [Errno 2] No such file or directory: 'azure_ml_downloads/named-outputs/output_folder/output.p'"
     ]
    }
   ],
   "source": [
    "network = get_output(job_name)"
   ]
  },
  {
   "cell_type": "code",
   "execution_count": 7,
   "metadata": {},
   "outputs": [
    {
     "ename": "NameError",
     "evalue": "name 'network' is not defined",
     "output_type": "error",
     "traceback": [
      "\u001b[0;31m---------------------------------------------------------------------------\u001b[0m",
      "\u001b[0;31mNameError\u001b[0m                                 Traceback (most recent call last)",
      "Cell \u001b[0;32mIn[7], line 7\u001b[0m\n\u001b[1;32m      4\u001b[0m height \u001b[39m=\u001b[39m \u001b[39m28\u001b[39m\n\u001b[1;32m      5\u001b[0m width \u001b[39m=\u001b[39m \u001b[39m28\u001b[39m\n\u001b[0;32m----> 7\u001b[0m Q \u001b[39m=\u001b[39m network\u001b[39m.\u001b[39mnodes[\u001b[39m0\u001b[39m]\n\u001b[1;32m      8\u001b[0m Ys \u001b[39m=\u001b[39m network\u001b[39m.\u001b[39mnodes[\u001b[39m1\u001b[39m:]\n\u001b[1;32m     10\u001b[0m w \u001b[39m=\u001b[39m torch\u001b[39m.\u001b[39mstack([y\u001b[39m.\u001b[39mcpt\u001b[39m.\u001b[39mcpu() \u001b[39mfor\u001b[39;00m y \u001b[39min\u001b[39;00m Ys])\n",
      "\u001b[0;31mNameError\u001b[0m: name 'network' is not defined"
     ]
    }
   ],
   "source": [
    "import torch\n",
    "import matplotlib.pyplot as plt\n",
    "\n",
    "height = 28\n",
    "width = 28\n",
    "\n",
    "Q = network.nodes[0]\n",
    "Ys = network.nodes[1:]\n",
    "\n",
    "w = torch.stack([y.cpt.cpu() for y in Ys])\n",
    "\n",
    "plt.figure()\n",
    "for i in range(0, 10):\n",
    "    plt.subplot(4, 3, i+1)\n",
    "    plt.imshow(w[:, i, 1].reshape(height, width))\n",
    "    plt.colorbar()\n",
    "    plt.clim(0, 1)\n",
    "    \n"
   ]
  }
 ],
 "metadata": {
  "kernelspec": {
   "display_name": "Python 3.10.6 ('.venv': venv)",
   "language": "python",
   "name": "python3"
  },
  "language_info": {
   "codemirror_mode": {
    "name": "ipython",
    "version": 3
   },
   "file_extension": ".py",
   "mimetype": "text/x-python",
   "name": "python",
   "nbconvert_exporter": "python",
   "pygments_lexer": "ipython3",
   "version": "3.10.7"
  },
  "orig_nbformat": 4,
  "vscode": {
   "interpreter": {
    "hash": "8f660fea999056be48bb5de60b72064227cab4c12d4518639b2d3be692389df7"
   }
  }
 },
 "nbformat": 4,
 "nbformat_minor": 2
}
